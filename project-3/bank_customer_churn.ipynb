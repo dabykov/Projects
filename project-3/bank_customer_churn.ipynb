{
 "cells": [
  {
   "cell_type": "markdown",
   "id": "972511fe",
   "metadata": {},
   "source": [
    "# Project 3: Bank Customer Churn Prediction using Classification Modelling"
   ]
  },
  {
   "cell_type": "markdown",
   "id": "b3d28368",
   "metadata": {},
   "source": [
    "### <i> Data: Bank Customer Churn <i>"
   ]
  },
  {
   "cell_type": "markdown",
   "id": "8a83bbcd",
   "metadata": {},
   "source": [
    "<b> Description </b>: The objective of this project is to showcase the skills related to data preprocessing, data analysis, visualisation, and classifiction model building and evaluation. The <a href=https://www.kaggle.com/datasets/muratcakmak/churn-modelling-bank-customer>dataset</a> was taken from Kaggle (author: MURAT ÇAKMAK); it contains open-source (or mock) bank customers data that can help predict the customers churn.\n",
    "\n",
    "In the first section of this project, I perform data preprocessing which inludes data inspection and cleaning, exploratory data analysis, visualisation as well as feature engineering in order to prepare the data for model building.<br>In the second section, I train and test seven different classification models, and finally create an ensemble model that incorporates three best performing models and predicts whether a customer is likely to leave the bank."
   ]
  },
  {
   "cell_type": "markdown",
   "id": "99d4d0bd",
   "metadata": {},
   "source": [
    "# 1. Data Preprocessing"
   ]
  },
  {
   "cell_type": "markdown",
   "id": "62e814c1",
   "metadata": {},
   "source": [
    "## 1.1. Data Inspection and Cleaning"
   ]
  },
  {
   "cell_type": "code",
   "execution_count": 396,
   "id": "85ac7143",
   "metadata": {},
   "outputs": [],
   "source": [
    "# Import necessary libraries\n",
    "import pandas as pd\n",
    "import numpy as np\n",
    "import matplotlib.pyplot as plt\n",
    "import seaborn as sns\n",
    "\n",
    "import warnings\n",
    "warnings.filterwarnings('ignore')"
   ]
  },
  {
   "cell_type": "code",
   "execution_count": 397,
   "id": "4a1d16e3",
   "metadata": {},
   "outputs": [],
   "source": [
    "# Load the file\n",
    "df = pd.read_csv('customer_churn.csv')"
   ]
  },
  {
   "cell_type": "code",
   "execution_count": 398,
   "id": "548b4694",
   "metadata": {},
   "outputs": [
    {
     "data": {
      "text/html": [
       "<div>\n",
       "<style scoped>\n",
       "    .dataframe tbody tr th:only-of-type {\n",
       "        vertical-align: middle;\n",
       "    }\n",
       "\n",
       "    .dataframe tbody tr th {\n",
       "        vertical-align: top;\n",
       "    }\n",
       "\n",
       "    .dataframe thead th {\n",
       "        text-align: right;\n",
       "    }\n",
       "</style>\n",
       "<table border=\"1\" class=\"dataframe\">\n",
       "  <thead>\n",
       "    <tr style=\"text-align: right;\">\n",
       "      <th></th>\n",
       "      <th>RowNumber</th>\n",
       "      <th>CustomerId</th>\n",
       "      <th>Surname</th>\n",
       "      <th>CreditScore</th>\n",
       "      <th>Geography</th>\n",
       "      <th>Gender</th>\n",
       "      <th>Age</th>\n",
       "      <th>Tenure</th>\n",
       "      <th>Balance</th>\n",
       "      <th>NumOfProducts</th>\n",
       "      <th>HasCrCard</th>\n",
       "      <th>IsActiveMember</th>\n",
       "      <th>EstimatedSalary</th>\n",
       "      <th>Exited</th>\n",
       "    </tr>\n",
       "  </thead>\n",
       "  <tbody>\n",
       "    <tr>\n",
       "      <th>0</th>\n",
       "      <td>1</td>\n",
       "      <td>15634602</td>\n",
       "      <td>Hargrave</td>\n",
       "      <td>619</td>\n",
       "      <td>France</td>\n",
       "      <td>Female</td>\n",
       "      <td>42</td>\n",
       "      <td>2</td>\n",
       "      <td>0.00</td>\n",
       "      <td>1</td>\n",
       "      <td>1</td>\n",
       "      <td>1</td>\n",
       "      <td>101348.88</td>\n",
       "      <td>1</td>\n",
       "    </tr>\n",
       "    <tr>\n",
       "      <th>1</th>\n",
       "      <td>2</td>\n",
       "      <td>15647311</td>\n",
       "      <td>Hill</td>\n",
       "      <td>608</td>\n",
       "      <td>Spain</td>\n",
       "      <td>Female</td>\n",
       "      <td>41</td>\n",
       "      <td>1</td>\n",
       "      <td>83807.86</td>\n",
       "      <td>1</td>\n",
       "      <td>0</td>\n",
       "      <td>1</td>\n",
       "      <td>112542.58</td>\n",
       "      <td>0</td>\n",
       "    </tr>\n",
       "    <tr>\n",
       "      <th>2</th>\n",
       "      <td>3</td>\n",
       "      <td>15619304</td>\n",
       "      <td>Onio</td>\n",
       "      <td>502</td>\n",
       "      <td>France</td>\n",
       "      <td>Female</td>\n",
       "      <td>42</td>\n",
       "      <td>8</td>\n",
       "      <td>159660.80</td>\n",
       "      <td>3</td>\n",
       "      <td>1</td>\n",
       "      <td>0</td>\n",
       "      <td>113931.57</td>\n",
       "      <td>1</td>\n",
       "    </tr>\n",
       "    <tr>\n",
       "      <th>3</th>\n",
       "      <td>4</td>\n",
       "      <td>15701354</td>\n",
       "      <td>Boni</td>\n",
       "      <td>699</td>\n",
       "      <td>France</td>\n",
       "      <td>Female</td>\n",
       "      <td>39</td>\n",
       "      <td>1</td>\n",
       "      <td>0.00</td>\n",
       "      <td>2</td>\n",
       "      <td>0</td>\n",
       "      <td>0</td>\n",
       "      <td>93826.63</td>\n",
       "      <td>0</td>\n",
       "    </tr>\n",
       "    <tr>\n",
       "      <th>4</th>\n",
       "      <td>5</td>\n",
       "      <td>15737888</td>\n",
       "      <td>Mitchell</td>\n",
       "      <td>850</td>\n",
       "      <td>Spain</td>\n",
       "      <td>Female</td>\n",
       "      <td>43</td>\n",
       "      <td>2</td>\n",
       "      <td>125510.82</td>\n",
       "      <td>1</td>\n",
       "      <td>1</td>\n",
       "      <td>1</td>\n",
       "      <td>79084.10</td>\n",
       "      <td>0</td>\n",
       "    </tr>\n",
       "  </tbody>\n",
       "</table>\n",
       "</div>"
      ],
      "text/plain": [
       "   RowNumber  CustomerId   Surname  CreditScore Geography  Gender  Age  \\\n",
       "0          1    15634602  Hargrave          619    France  Female   42   \n",
       "1          2    15647311      Hill          608     Spain  Female   41   \n",
       "2          3    15619304      Onio          502    France  Female   42   \n",
       "3          4    15701354      Boni          699    France  Female   39   \n",
       "4          5    15737888  Mitchell          850     Spain  Female   43   \n",
       "\n",
       "   Tenure    Balance  NumOfProducts  HasCrCard  IsActiveMember  \\\n",
       "0       2       0.00              1          1               1   \n",
       "1       1   83807.86              1          0               1   \n",
       "2       8  159660.80              3          1               0   \n",
       "3       1       0.00              2          0               0   \n",
       "4       2  125510.82              1          1               1   \n",
       "\n",
       "   EstimatedSalary  Exited  \n",
       "0        101348.88       1  \n",
       "1        112542.58       0  \n",
       "2        113931.57       1  \n",
       "3         93826.63       0  \n",
       "4         79084.10       0  "
      ]
     },
     "execution_count": 398,
     "metadata": {},
     "output_type": "execute_result"
    }
   ],
   "source": [
    "df.head()"
   ]
  },
  {
   "cell_type": "code",
   "execution_count": 399,
   "id": "359b0a51",
   "metadata": {},
   "outputs": [
    {
     "data": {
      "text/plain": [
       "(10000, 14)"
      ]
     },
     "execution_count": 399,
     "metadata": {},
     "output_type": "execute_result"
    }
   ],
   "source": [
    "df.shape"
   ]
  },
  {
   "cell_type": "code",
   "execution_count": 400,
   "id": "eb0a547e",
   "metadata": {},
   "outputs": [
    {
     "name": "stdout",
     "output_type": "stream",
     "text": [
      "<class 'pandas.core.frame.DataFrame'>\n",
      "RangeIndex: 10000 entries, 0 to 9999\n",
      "Data columns (total 14 columns):\n",
      " #   Column           Non-Null Count  Dtype  \n",
      "---  ------           --------------  -----  \n",
      " 0   RowNumber        10000 non-null  int64  \n",
      " 1   CustomerId       10000 non-null  int64  \n",
      " 2   Surname          10000 non-null  object \n",
      " 3   CreditScore      10000 non-null  int64  \n",
      " 4   Geography        10000 non-null  object \n",
      " 5   Gender           10000 non-null  object \n",
      " 6   Age              10000 non-null  int64  \n",
      " 7   Tenure           10000 non-null  int64  \n",
      " 8   Balance          10000 non-null  float64\n",
      " 9   NumOfProducts    10000 non-null  int64  \n",
      " 10  HasCrCard        10000 non-null  int64  \n",
      " 11  IsActiveMember   10000 non-null  int64  \n",
      " 12  EstimatedSalary  10000 non-null  float64\n",
      " 13  Exited           10000 non-null  int64  \n",
      "dtypes: float64(2), int64(9), object(3)\n",
      "memory usage: 1.1+ MB\n"
     ]
    }
   ],
   "source": [
    "df.info()"
   ]
  },
  {
   "cell_type": "code",
   "execution_count": 401,
   "id": "05046ffd",
   "metadata": {},
   "outputs": [
    {
     "name": "stdout",
     "output_type": "stream",
     "text": [
      "Number of categorical variables:  3\n"
     ]
    },
    {
     "data": {
      "text/html": [
       "<div>\n",
       "<style scoped>\n",
       "    .dataframe tbody tr th:only-of-type {\n",
       "        vertical-align: middle;\n",
       "    }\n",
       "\n",
       "    .dataframe tbody tr th {\n",
       "        vertical-align: top;\n",
       "    }\n",
       "\n",
       "    .dataframe thead th {\n",
       "        text-align: right;\n",
       "    }\n",
       "</style>\n",
       "<table border=\"1\" class=\"dataframe\">\n",
       "  <thead>\n",
       "    <tr style=\"text-align: right;\">\n",
       "      <th></th>\n",
       "      <th>Surname</th>\n",
       "      <th>Geography</th>\n",
       "      <th>Gender</th>\n",
       "    </tr>\n",
       "  </thead>\n",
       "  <tbody>\n",
       "    <tr>\n",
       "      <th>0</th>\n",
       "      <td>Hargrave</td>\n",
       "      <td>France</td>\n",
       "      <td>Female</td>\n",
       "    </tr>\n",
       "    <tr>\n",
       "      <th>1</th>\n",
       "      <td>Hill</td>\n",
       "      <td>Spain</td>\n",
       "      <td>Female</td>\n",
       "    </tr>\n",
       "    <tr>\n",
       "      <th>2</th>\n",
       "      <td>Onio</td>\n",
       "      <td>France</td>\n",
       "      <td>Female</td>\n",
       "    </tr>\n",
       "    <tr>\n",
       "      <th>3</th>\n",
       "      <td>Boni</td>\n",
       "      <td>France</td>\n",
       "      <td>Female</td>\n",
       "    </tr>\n",
       "    <tr>\n",
       "      <th>4</th>\n",
       "      <td>Mitchell</td>\n",
       "      <td>Spain</td>\n",
       "      <td>Female</td>\n",
       "    </tr>\n",
       "  </tbody>\n",
       "</table>\n",
       "</div>"
      ],
      "text/plain": [
       "    Surname Geography  Gender\n",
       "0  Hargrave    France  Female\n",
       "1      Hill     Spain  Female\n",
       "2      Onio    France  Female\n",
       "3      Boni    France  Female\n",
       "4  Mitchell     Spain  Female"
      ]
     },
     "execution_count": 401,
     "metadata": {},
     "output_type": "execute_result"
    }
   ],
   "source": [
    "# Categorical variables\n",
    "\n",
    "print(\"Number of categorical variables: \", df.select_dtypes('object').shape[1])\n",
    "df.select_dtypes('object').head()"
   ]
  },
  {
   "cell_type": "code",
   "execution_count": 402,
   "id": "263b4f39",
   "metadata": {},
   "outputs": [
    {
     "name": "stdout",
     "output_type": "stream",
     "text": [
      "Number of numerical variables:  11\n"
     ]
    },
    {
     "data": {
      "text/html": [
       "<div>\n",
       "<style scoped>\n",
       "    .dataframe tbody tr th:only-of-type {\n",
       "        vertical-align: middle;\n",
       "    }\n",
       "\n",
       "    .dataframe tbody tr th {\n",
       "        vertical-align: top;\n",
       "    }\n",
       "\n",
       "    .dataframe thead th {\n",
       "        text-align: right;\n",
       "    }\n",
       "</style>\n",
       "<table border=\"1\" class=\"dataframe\">\n",
       "  <thead>\n",
       "    <tr style=\"text-align: right;\">\n",
       "      <th></th>\n",
       "      <th>RowNumber</th>\n",
       "      <th>CustomerId</th>\n",
       "      <th>CreditScore</th>\n",
       "      <th>Age</th>\n",
       "      <th>Tenure</th>\n",
       "      <th>Balance</th>\n",
       "      <th>NumOfProducts</th>\n",
       "      <th>HasCrCard</th>\n",
       "      <th>IsActiveMember</th>\n",
       "      <th>EstimatedSalary</th>\n",
       "      <th>Exited</th>\n",
       "    </tr>\n",
       "  </thead>\n",
       "  <tbody>\n",
       "    <tr>\n",
       "      <th>0</th>\n",
       "      <td>1</td>\n",
       "      <td>15634602</td>\n",
       "      <td>619</td>\n",
       "      <td>42</td>\n",
       "      <td>2</td>\n",
       "      <td>0.00</td>\n",
       "      <td>1</td>\n",
       "      <td>1</td>\n",
       "      <td>1</td>\n",
       "      <td>101348.88</td>\n",
       "      <td>1</td>\n",
       "    </tr>\n",
       "    <tr>\n",
       "      <th>1</th>\n",
       "      <td>2</td>\n",
       "      <td>15647311</td>\n",
       "      <td>608</td>\n",
       "      <td>41</td>\n",
       "      <td>1</td>\n",
       "      <td>83807.86</td>\n",
       "      <td>1</td>\n",
       "      <td>0</td>\n",
       "      <td>1</td>\n",
       "      <td>112542.58</td>\n",
       "      <td>0</td>\n",
       "    </tr>\n",
       "    <tr>\n",
       "      <th>2</th>\n",
       "      <td>3</td>\n",
       "      <td>15619304</td>\n",
       "      <td>502</td>\n",
       "      <td>42</td>\n",
       "      <td>8</td>\n",
       "      <td>159660.80</td>\n",
       "      <td>3</td>\n",
       "      <td>1</td>\n",
       "      <td>0</td>\n",
       "      <td>113931.57</td>\n",
       "      <td>1</td>\n",
       "    </tr>\n",
       "    <tr>\n",
       "      <th>3</th>\n",
       "      <td>4</td>\n",
       "      <td>15701354</td>\n",
       "      <td>699</td>\n",
       "      <td>39</td>\n",
       "      <td>1</td>\n",
       "      <td>0.00</td>\n",
       "      <td>2</td>\n",
       "      <td>0</td>\n",
       "      <td>0</td>\n",
       "      <td>93826.63</td>\n",
       "      <td>0</td>\n",
       "    </tr>\n",
       "    <tr>\n",
       "      <th>4</th>\n",
       "      <td>5</td>\n",
       "      <td>15737888</td>\n",
       "      <td>850</td>\n",
       "      <td>43</td>\n",
       "      <td>2</td>\n",
       "      <td>125510.82</td>\n",
       "      <td>1</td>\n",
       "      <td>1</td>\n",
       "      <td>1</td>\n",
       "      <td>79084.10</td>\n",
       "      <td>0</td>\n",
       "    </tr>\n",
       "  </tbody>\n",
       "</table>\n",
       "</div>"
      ],
      "text/plain": [
       "   RowNumber  CustomerId  CreditScore  Age  Tenure    Balance  NumOfProducts  \\\n",
       "0          1    15634602          619   42       2       0.00              1   \n",
       "1          2    15647311          608   41       1   83807.86              1   \n",
       "2          3    15619304          502   42       8  159660.80              3   \n",
       "3          4    15701354          699   39       1       0.00              2   \n",
       "4          5    15737888          850   43       2  125510.82              1   \n",
       "\n",
       "   HasCrCard  IsActiveMember  EstimatedSalary  Exited  \n",
       "0          1               1        101348.88       1  \n",
       "1          0               1        112542.58       0  \n",
       "2          1               0        113931.57       1  \n",
       "3          0               0         93826.63       0  \n",
       "4          1               1         79084.10       0  "
      ]
     },
     "execution_count": 402,
     "metadata": {},
     "output_type": "execute_result"
    }
   ],
   "source": [
    "# Numerical variables\n",
    "\n",
    "print(\"Number of numerical variables: \", df.select_dtypes(exclude='object').shape[1])\n",
    "df.select_dtypes(exclude='object').head()"
   ]
  },
  {
   "cell_type": "code",
   "execution_count": 403,
   "id": "f7784765",
   "metadata": {},
   "outputs": [
    {
     "data": {
      "text/plain": [
       "RowNumber          10000\n",
       "CustomerId         10000\n",
       "Surname             2932\n",
       "CreditScore          460\n",
       "Geography              3\n",
       "Gender                 2\n",
       "Age                   70\n",
       "Tenure                11\n",
       "Balance             6382\n",
       "NumOfProducts          4\n",
       "HasCrCard              2\n",
       "IsActiveMember         2\n",
       "EstimatedSalary     9999\n",
       "Exited                 2\n",
       "dtype: int64"
      ]
     },
     "execution_count": 403,
     "metadata": {},
     "output_type": "execute_result"
    }
   ],
   "source": [
    "df.nunique()"
   ]
  },
  {
   "cell_type": "markdown",
   "id": "88df1507",
   "metadata": {},
   "source": [
    "#### Remove unnecessaty columns"
   ]
  },
  {
   "cell_type": "code",
   "execution_count": 404,
   "id": "39e87e04",
   "metadata": {},
   "outputs": [],
   "source": [
    "churn = df.drop(['RowNumber', 'CustomerId', 'Surname'], axis=1)"
   ]
  },
  {
   "cell_type": "markdown",
   "id": "2648be1f",
   "metadata": {},
   "source": [
    "#### Label encode 'Gender' column"
   ]
  },
  {
   "cell_type": "code",
   "execution_count": 405,
   "id": "f562ab81",
   "metadata": {},
   "outputs": [],
   "source": [
    "# Label encoding will replace Female and Male with 0 and 1, respecfully\n",
    "\n",
    "from sklearn.preprocessing import LabelEncoder\n",
    "\n",
    "churn[\"Gender\"]=LabelEncoder().fit_transform(churn[\"Gender\"])"
   ]
  },
  {
   "cell_type": "markdown",
   "id": "665bc757",
   "metadata": {},
   "source": [
    "#### Save the cleaned data"
   ]
  },
  {
   "cell_type": "code",
   "execution_count": 449,
   "id": "be258c7f",
   "metadata": {},
   "outputs": [],
   "source": [
    "churn.to_csv(\"churn_cleaned.csv\", index=False)"
   ]
  },
  {
   "cell_type": "markdown",
   "id": "4e5fb9e7",
   "metadata": {},
   "source": [
    "## 1.2. Data Analysis and Visualization "
   ]
  },
  {
   "cell_type": "markdown",
   "id": "f3e2a07d",
   "metadata": {},
   "source": [
    "### 1.2.1. Examine numerical variables"
   ]
  },
  {
   "cell_type": "code",
   "execution_count": 406,
   "id": "bb67c2a1",
   "metadata": {},
   "outputs": [
    {
     "data": {
      "text/html": [
       "<div>\n",
       "<style scoped>\n",
       "    .dataframe tbody tr th:only-of-type {\n",
       "        vertical-align: middle;\n",
       "    }\n",
       "\n",
       "    .dataframe tbody tr th {\n",
       "        vertical-align: top;\n",
       "    }\n",
       "\n",
       "    .dataframe thead th {\n",
       "        text-align: right;\n",
       "    }\n",
       "</style>\n",
       "<table border=\"1\" class=\"dataframe\">\n",
       "  <thead>\n",
       "    <tr style=\"text-align: right;\">\n",
       "      <th></th>\n",
       "      <th>CreditScore</th>\n",
       "      <th>Gender</th>\n",
       "      <th>Age</th>\n",
       "      <th>Tenure</th>\n",
       "      <th>Balance</th>\n",
       "      <th>NumOfProducts</th>\n",
       "      <th>HasCrCard</th>\n",
       "      <th>IsActiveMember</th>\n",
       "      <th>EstimatedSalary</th>\n",
       "      <th>Exited</th>\n",
       "    </tr>\n",
       "  </thead>\n",
       "  <tbody>\n",
       "    <tr>\n",
       "      <th>count</th>\n",
       "      <td>10000.000000</td>\n",
       "      <td>10000.000000</td>\n",
       "      <td>10000.000000</td>\n",
       "      <td>10000.000000</td>\n",
       "      <td>10000.000000</td>\n",
       "      <td>10000.000000</td>\n",
       "      <td>10000.00000</td>\n",
       "      <td>10000.000000</td>\n",
       "      <td>10000.000000</td>\n",
       "      <td>10000.000000</td>\n",
       "    </tr>\n",
       "    <tr>\n",
       "      <th>mean</th>\n",
       "      <td>650.528800</td>\n",
       "      <td>0.545700</td>\n",
       "      <td>38.921800</td>\n",
       "      <td>5.012800</td>\n",
       "      <td>76485.889288</td>\n",
       "      <td>1.530200</td>\n",
       "      <td>0.70550</td>\n",
       "      <td>0.515100</td>\n",
       "      <td>100090.239881</td>\n",
       "      <td>0.203700</td>\n",
       "    </tr>\n",
       "    <tr>\n",
       "      <th>std</th>\n",
       "      <td>96.653299</td>\n",
       "      <td>0.497932</td>\n",
       "      <td>10.487806</td>\n",
       "      <td>2.892174</td>\n",
       "      <td>62397.405202</td>\n",
       "      <td>0.581654</td>\n",
       "      <td>0.45584</td>\n",
       "      <td>0.499797</td>\n",
       "      <td>57510.492818</td>\n",
       "      <td>0.402769</td>\n",
       "    </tr>\n",
       "    <tr>\n",
       "      <th>min</th>\n",
       "      <td>350.000000</td>\n",
       "      <td>0.000000</td>\n",
       "      <td>18.000000</td>\n",
       "      <td>0.000000</td>\n",
       "      <td>0.000000</td>\n",
       "      <td>1.000000</td>\n",
       "      <td>0.00000</td>\n",
       "      <td>0.000000</td>\n",
       "      <td>11.580000</td>\n",
       "      <td>0.000000</td>\n",
       "    </tr>\n",
       "    <tr>\n",
       "      <th>25%</th>\n",
       "      <td>584.000000</td>\n",
       "      <td>0.000000</td>\n",
       "      <td>32.000000</td>\n",
       "      <td>3.000000</td>\n",
       "      <td>0.000000</td>\n",
       "      <td>1.000000</td>\n",
       "      <td>0.00000</td>\n",
       "      <td>0.000000</td>\n",
       "      <td>51002.110000</td>\n",
       "      <td>0.000000</td>\n",
       "    </tr>\n",
       "    <tr>\n",
       "      <th>50%</th>\n",
       "      <td>652.000000</td>\n",
       "      <td>1.000000</td>\n",
       "      <td>37.000000</td>\n",
       "      <td>5.000000</td>\n",
       "      <td>97198.540000</td>\n",
       "      <td>1.000000</td>\n",
       "      <td>1.00000</td>\n",
       "      <td>1.000000</td>\n",
       "      <td>100193.915000</td>\n",
       "      <td>0.000000</td>\n",
       "    </tr>\n",
       "    <tr>\n",
       "      <th>75%</th>\n",
       "      <td>718.000000</td>\n",
       "      <td>1.000000</td>\n",
       "      <td>44.000000</td>\n",
       "      <td>7.000000</td>\n",
       "      <td>127644.240000</td>\n",
       "      <td>2.000000</td>\n",
       "      <td>1.00000</td>\n",
       "      <td>1.000000</td>\n",
       "      <td>149388.247500</td>\n",
       "      <td>0.000000</td>\n",
       "    </tr>\n",
       "    <tr>\n",
       "      <th>max</th>\n",
       "      <td>850.000000</td>\n",
       "      <td>1.000000</td>\n",
       "      <td>92.000000</td>\n",
       "      <td>10.000000</td>\n",
       "      <td>250898.090000</td>\n",
       "      <td>4.000000</td>\n",
       "      <td>1.00000</td>\n",
       "      <td>1.000000</td>\n",
       "      <td>199992.480000</td>\n",
       "      <td>1.000000</td>\n",
       "    </tr>\n",
       "  </tbody>\n",
       "</table>\n",
       "</div>"
      ],
      "text/plain": [
       "        CreditScore        Gender           Age        Tenure        Balance  \\\n",
       "count  10000.000000  10000.000000  10000.000000  10000.000000   10000.000000   \n",
       "mean     650.528800      0.545700     38.921800      5.012800   76485.889288   \n",
       "std       96.653299      0.497932     10.487806      2.892174   62397.405202   \n",
       "min      350.000000      0.000000     18.000000      0.000000       0.000000   \n",
       "25%      584.000000      0.000000     32.000000      3.000000       0.000000   \n",
       "50%      652.000000      1.000000     37.000000      5.000000   97198.540000   \n",
       "75%      718.000000      1.000000     44.000000      7.000000  127644.240000   \n",
       "max      850.000000      1.000000     92.000000     10.000000  250898.090000   \n",
       "\n",
       "       NumOfProducts    HasCrCard  IsActiveMember  EstimatedSalary  \\\n",
       "count   10000.000000  10000.00000    10000.000000     10000.000000   \n",
       "mean        1.530200      0.70550        0.515100    100090.239881   \n",
       "std         0.581654      0.45584        0.499797     57510.492818   \n",
       "min         1.000000      0.00000        0.000000        11.580000   \n",
       "25%         1.000000      0.00000        0.000000     51002.110000   \n",
       "50%         1.000000      1.00000        1.000000    100193.915000   \n",
       "75%         2.000000      1.00000        1.000000    149388.247500   \n",
       "max         4.000000      1.00000        1.000000    199992.480000   \n",
       "\n",
       "             Exited  \n",
       "count  10000.000000  \n",
       "mean       0.203700  \n",
       "std        0.402769  \n",
       "min        0.000000  \n",
       "25%        0.000000  \n",
       "50%        0.000000  \n",
       "75%        0.000000  \n",
       "max        1.000000  "
      ]
     },
     "execution_count": 406,
     "metadata": {},
     "output_type": "execute_result"
    }
   ],
   "source": [
    "churn.describe()"
   ]
  },
  {
   "cell_type": "markdown",
   "id": "b0beb43c",
   "metadata": {},
   "source": [
    "#### Correlation between numerical variables"
   ]
  },
  {
   "cell_type": "code",
   "execution_count": 407,
   "id": "82363970",
   "metadata": {},
   "outputs": [
    {
     "data": {
      "text/plain": [
       "<Axes: >"
      ]
     },
     "execution_count": 407,
     "metadata": {},
     "output_type": "execute_result"
    },
    {
     "data": {
      "image/png": "[encoded data removed]",
      "text/plain": [
       "<Figure size 1500x800 with 2 Axes>"
      ]
     },
     "metadata": {},
     "output_type": "display_data"
    }
   ],
   "source": [
    "correlation = churn.corr()\n",
    "\n",
    "plt.figure(figsize=(15,8))\n",
    "sns.heatmap(correlation, fmt='.2f', annot=True, cmap='Blues')"
   ]
  },
  {
   "cell_type": "markdown",
   "id": "3cfa126b",
   "metadata": {},
   "source": [
    "The correltion map shows that there are several variables that considerably impact our target variable, 'exited':\n",
    "- 'Age': positive correlaion (0.29)\n",
    "- 'Balance': positive correlation (0.12)\n",
    "- 'Gender': negative correlation (-0.11)\n",
    "- 'IsActiveMember': negative correlation (-0.16)\n",
    "\n",
    "There is also significant correlation between the following variables:\n",
    "- 'Balance' and 'NumOfProducts' (-0.3)\n",
    "- 'Age' and 'IsActiveMember' (0.09)"
   ]
  },
  {
   "cell_type": "markdown",
   "id": "2b438870",
   "metadata": {},
   "source": [
    "#### Variable insights"
   ]
  },
  {
   "cell_type": "code",
   "execution_count": 408,
   "id": "e80168e9",
   "metadata": {},
   "outputs": [
    {
     "name": "stdout",
     "output_type": "stream",
     "text": [
      "The number of active users in this bank: 5151 out of 10000\n"
     ]
    }
   ],
   "source": [
    "# Number of active members\n",
    "\n",
    "print(\"The number of active users in this bank:\" \n",
    "      , churn['IsActiveMember'].value_counts()[1], \"out of\", len(churn['IsActiveMember']))"
   ]
  },
  {
   "cell_type": "code",
   "execution_count": 409,
   "id": "8f3fbe41",
   "metadata": {},
   "outputs": [
    {
     "name": "stdout",
     "output_type": "stream",
     "text": [
      "25.58 % of customers have exited\n"
     ]
    }
   ],
   "source": [
    "# Exited ratio\n",
    "\n",
    "print(((churn['Exited'].value_counts()[1]/churn['Exited'].value_counts()[0])*100).round(2), \"% of customers have exited\")"
   ]
  },
  {
   "cell_type": "code",
   "execution_count": 410,
   "id": "299ac00d",
   "metadata": {},
   "outputs": [
    {
     "name": "stdout",
     "output_type": "stream",
     "text": [
      "The number of customers who own credit cards: 7055 out of 10000\n"
     ]
    }
   ],
   "source": [
    "# Number of credit card owners\n",
    "\n",
    "print(\"The number of customers who own credit cards:\" \n",
    "      , churn['HasCrCard'].value_counts()[1], \"out of\", len(churn['HasCrCard']))"
   ]
  },
  {
   "cell_type": "code",
   "execution_count": 411,
   "id": "cefce0b4",
   "metadata": {},
   "outputs": [
    {
     "name": "stdout",
     "output_type": "stream",
     "text": [
      "Female: 4543\n",
      "Male: 5457\n"
     ]
    }
   ],
   "source": [
    "# Number of Female vs Male customers\n",
    "\n",
    "print(\"Female:\", churn['Gender'].value_counts()[0])\n",
    "print(\"Male:\", churn['Gender'].value_counts()[1])"
   ]
  },
  {
   "cell_type": "code",
   "execution_count": 412,
   "id": "045aa372",
   "metadata": {},
   "outputs": [
    {
     "data": {
      "text/plain": [
       "1    5084\n",
       "2    4590\n",
       "3     266\n",
       "4      60\n",
       "Name: NumOfProducts, dtype: int64"
      ]
     },
     "execution_count": 412,
     "metadata": {},
     "output_type": "execute_result"
    }
   ],
   "source": [
    "# Number of products per customer count\n",
    "\n",
    "churn['NumOfProducts'].value_counts()"
   ]
  },
  {
   "cell_type": "code",
   "execution_count": 413,
   "id": "2bee2a77",
   "metadata": {
    "scrolled": true
   },
   "outputs": [
    {
     "data": {
      "text/plain": [
       "France     5014\n",
       "Germany    2509\n",
       "Spain      2477\n",
       "Name: Geography, dtype: int64"
      ]
     },
     "execution_count": 413,
     "metadata": {},
     "output_type": "execute_result"
    }
   ],
   "source": [
    "# Non-numerial variable, 'Geograpy'\n",
    "\n",
    "churn['Geography'].value_counts()"
   ]
  },
  {
   "cell_type": "markdown",
   "id": "c553d6a2",
   "metadata": {},
   "source": [
    "### 1.2.1. Examine non-numerical variable"
   ]
  },
  {
   "cell_type": "markdown",
   "id": "a0aeead2",
   "metadata": {},
   "source": [
    "After data cleaning and label encoding, we have one non-numerical variable: Geography."
   ]
  },
  {
   "cell_type": "code",
   "execution_count": 414,
   "id": "99951287",
   "metadata": {},
   "outputs": [
    {
     "data": {
      "text/plain": [
       "France     5014\n",
       "Germany    2509\n",
       "Spain      2477\n",
       "Name: Geography, dtype: int64"
      ]
     },
     "execution_count": 414,
     "metadata": {},
     "output_type": "execute_result"
    }
   ],
   "source": [
    "churn['Geography'].value_counts()"
   ]
  },
  {
   "cell_type": "markdown",
   "id": "10f5353d",
   "metadata": {},
   "source": [
    "#### ANOVA f-test and Post-hoc"
   ]
  },
  {
   "cell_type": "markdown",
   "id": "b78c6e37",
   "metadata": {},
   "source": [
    "In order to understand howw significant the impact of the non-numerical variable 'Geography' on the target variable, 'Exited', I will perform analysis of variance, or ANOVA f-test. Considering significance level to be 0.05, the hypothesis are the following:\n",
    "\n",
    "H0: µ1= µ2=...= µk\n",
    "\n",
    "H1: there is at least one population mean that differs from the rest.\n",
    "\n",
    "If p-value is less than 0.05, the null hypothesis is rejected."
   ]
  },
  {
   "cell_type": "markdown",
   "id": "73d32fee",
   "metadata": {},
   "source": [
    "- <i><b> Exited customers and Geography </i>"
   ]
  },
  {
   "cell_type": "markdown",
   "id": "cb037c1e",
   "metadata": {},
   "source": [
    "Since the neighbourhood groups don't have the same size of data, first, I create random samples of the size of 2000 for each group, and then perform the ANOVA f-test."
   ]
  },
  {
   "cell_type": "code",
   "execution_count": 415,
   "id": "e4cf7530",
   "metadata": {},
   "outputs": [
    {
     "name": "stdout",
     "output_type": "stream",
     "text": [
      "F-value:  156.69400056607836\n",
      "p-value:  2.7176751545206323e-35\n"
     ]
    }
   ],
   "source": [
    "from scipy.stats import f_oneway\n",
    "\n",
    "data_france = churn[churn['Geography']=='France'][['Geography','Exited']]\n",
    "data_germany = churn[churn['Geography']=='Germany'][['Geography','Exited']]\n",
    "data_spain = churn[churn['Geography']=='Spain'][['Geography','Exited']]\n",
    "\n",
    "s1 = data_france.sample(n=2000).Exited.to_list()\n",
    "s2 = data_germany.sample(n=2000).Exited.to_list()\n",
    "s3 = data_spain.sample(n=2000).Exited.to_list()\n",
    "\n",
    "f_value, p_value = f_oneway(s1, s2)\n",
    "\n",
    "# print the results\n",
    "print(\"F-value: \", f_value)\n",
    "print(\"p-value: \", p_value)"
   ]
  },
  {
   "cell_type": "markdown",
   "id": "83e95bc2",
   "metadata": {},
   "source": [
    "The p_value is way smaller than 0.05, which means that we cannot accept H<sub>0</sub>, and that the categorical variable, Geography, has significant influence on the target variable, 'Exited'.\n",
    "\n",
    "The next step is to perform <b>post-hoc</b> in order to further investigate pairwise differences among groups and avoid making false conclusions about differences among groups. The post-hoc is done using T-test."
   ]
  },
  {
   "cell_type": "code",
   "execution_count": 416,
   "id": "d810ed88",
   "metadata": {},
   "outputs": [
    {
     "name": "stdout",
     "output_type": "stream",
     "text": [
      "T-test between France and Germany:\n",
      "t-value: -12.517747423801067, p-value: 2.71767515452437e-35\n",
      "T-test between France and Spain:\n",
      "t-value: -0.5167842698811849, p-value: 0.605335346812525\n",
      "T-test between Germany and Spain:\n",
      "t-value: 11.995988443185857, p-value: 1.344385501091388e-32\n"
     ]
    }
   ],
   "source": [
    "from scipy.stats import ttest_ind\n",
    "\n",
    "groups = ['France', 'Germany', 'Spain']\n",
    "samples = [s1, s2, s3]\n",
    "\n",
    "for i in range(len(groups)):\n",
    "    for j in range(i+1, len(groups)):\n",
    "        t_value, p_value = ttest_ind(samples[i], samples[j])\n",
    "        print(f\"T-test between {groups[i]} and {groups[j]}:\")\n",
    "        print(f\"t-value: {t_value}, p-value: {p_value}\")"
   ]
  },
  {
   "cell_type": "markdown",
   "id": "168a0465",
   "metadata": {},
   "source": [
    "We can see that two pairs (France/Germany and Germany/Spain) are significantly different from each other, however, the pair France/Spain appears to have no significant difference between the means of the groups."
   ]
  },
  {
   "cell_type": "markdown",
   "id": "72fb48b7",
   "metadata": {},
   "source": [
    "### 1.2.3 Visualization"
   ]
  },
  {
   "cell_type": "markdown",
   "id": "056031aa",
   "metadata": {},
   "source": [
    "- <b><i>Gender proportion<i></b>"
   ]
  },
  {
   "cell_type": "code",
   "execution_count": 417,
   "id": "fdf7be6e",
   "metadata": {},
   "outputs": [
    {
     "data": {
      "image/png": "[encoded data removed]",
      "text/plain": [
       "<Figure size 800x500 with 1 Axes>"
      ]
     },
     "metadata": {},
     "output_type": "display_data"
    }
   ],
   "source": [
    "colors = sns.color_palette(\"plasma\")\n",
    "\n",
    "gender = churn[\"Gender\"].value_counts()\n",
    "churn[\"Gender\"].value_counts().plot.bar(color=colors, width=0.8, figsize=(8, 5))\n",
    "\n",
    "plt.xlabel('Gender Group', labelpad=20)\n",
    "plt.ylabel('Number of Customers', labelpad=20)\n",
    "plt.title('Gender Proportion')\n",
    "plt.xticks([0, 1], ['Male', 'Female'], rotation=0)\n",
    "\n",
    "plt.show()"
   ]
  },
  {
   "cell_type": "markdown",
   "id": "57285ff0",
   "metadata": {},
   "source": [
    "- <b><i>Geography proportion<i></b>"
   ]
  },
  {
   "cell_type": "code",
   "execution_count": 418,
   "id": "e0ba4882",
   "metadata": {},
   "outputs": [
    {
     "data": {
      "image/png": "[encoded data removed]",
      "text/plain": [
       "<Figure size 800x500 with 1 Axes>"
      ]
     },
     "metadata": {},
     "output_type": "display_data"
    }
   ],
   "source": [
    "geography = churn[\"Geography\"].value_counts()\n",
    "geography.plot.bar(color=colors, width=0.8, figsize=(8, 5))\n",
    "\n",
    "plt.xlabel('Country', labelpad=20)\n",
    "plt.ylabel('Number of Customers', labelpad=20)\n",
    "plt.title('Customers by Country')\n",
    "plt.xticks(rotation=0)\n",
    "\n",
    "plt.show()"
   ]
  },
  {
   "cell_type": "markdown",
   "id": "3e17aefb",
   "metadata": {},
   "source": [
    "- <b><i>Age distribution<i></b>"
   ]
  },
  {
   "cell_type": "code",
   "execution_count": 419,
   "id": "804b7be9",
   "metadata": {},
   "outputs": [
    {
     "data": {
      "image/png": "[encoded data removed]",
      "text/plain": [
       "<Figure size 640x480 with 1 Axes>"
      ]
     },
     "metadata": {},
     "output_type": "display_data"
    }
   ],
   "source": [
    "sns.set_palette(\"husl\")\n",
    "plt.hist(churn['Age'], bins=100, edgecolor='black')\n",
    "plt.xlabel('Age')\n",
    "plt.ylabel('Number of Customers')\n",
    "plt.title('Age Distribution')\n",
    "\n",
    "plt.show()"
   ]
  },
  {
   "cell_type": "markdown",
   "id": "7d1c9bda",
   "metadata": {},
   "source": [
    "- <b><i>Exited proportion<i></b>"
   ]
  },
  {
   "cell_type": "code",
   "execution_count": 420,
   "id": "d923f6da",
   "metadata": {},
   "outputs": [
    {
     "data": {
      "image/png": "[encoded data removed]",
      "text/plain": [
       "<Figure size 640x480 with 1 Axes>"
      ]
     },
     "metadata": {},
     "output_type": "display_data"
    }
   ],
   "source": [
    "exited = churn['Exited'].value_counts()\n",
    "plt.pie(exited, labels=['Still customers', 'Left the bank'], autopct='%1.1f%%', startangle=90)\n",
    "plt.title('Proportion of customers vs those who left the bank')\n",
    "\n",
    "plt.show()"
   ]
  },
  {
   "cell_type": "markdown",
   "id": "1262c8b1",
   "metadata": {},
   "source": [
    "- <b><i>Estimated salary distribution<i></b>"
   ]
  },
  {
   "cell_type": "code",
   "execution_count": 421,
   "id": "fc7218c6",
   "metadata": {},
   "outputs": [
    {
     "data": {
      "image/png": "[encoded data removed]",
      "text/plain": [
       "<Figure size 1000x1000 with 2 Axes>"
      ]
     },
     "metadata": {},
     "output_type": "display_data"
    }
   ],
   "source": [
    "fig, (ax1, ax2) = plt.subplots(2, 1, figsize=(10, 10))\n",
    "\n",
    "ax1.boxplot(churn['EstimatedSalary'])\n",
    "ax1.set_ylabel('Salary')\n",
    "ax1.set_title('Estimated salary distribution')\n",
    "\n",
    "ax2.hist(churn['EstimatedSalary'], bins=100, edgecolor='black')\n",
    "ax2.set_xlabel('Salary')\n",
    "ax2.set_ylabel('Frequency')\n",
    "\n",
    "plt.show()"
   ]
  },
  {
   "cell_type": "markdown",
   "id": "4e782820",
   "metadata": {},
   "source": [
    "- <b><i>Balance distribution<i></b>"
   ]
  },
  {
   "cell_type": "code",
   "execution_count": 422,
   "id": "acdaa5e9",
   "metadata": {},
   "outputs": [
    {
     "data": {
      "image/png": "[encoded data removed]",
      "text/plain": [
       "<Figure size 1000x1000 with 2 Axes>"
      ]
     },
     "metadata": {},
     "output_type": "display_data"
    }
   ],
   "source": [
    "sns.set_palette(\"husl\")\n",
    "fig, (ax1, ax2) = plt.subplots(2, 1, figsize=(10, 10))\n",
    "\n",
    "ax1.boxplot(churn['Balance'])\n",
    "ax1.set_ylabel('Salary')\n",
    "ax1.set_title('Balance distribution')\n",
    "\n",
    "ax2.hist(churn['Balance'], bins=30, edgecolor='black')\n",
    "ax2.set_xlabel('Balance')\n",
    "ax2.set_ylabel('Frequency')\n",
    "\n",
    "plt.show()"
   ]
  },
  {
   "cell_type": "markdown",
   "id": "26d389f4",
   "metadata": {},
   "source": [
    "- <b><i>Proportion of exited customers among active members<i></b>"
   ]
  },
  {
   "cell_type": "code",
   "execution_count": 423,
   "id": "f17403f5",
   "metadata": {},
   "outputs": [
    {
     "data": {
      "text/plain": [
       "Text(0, 0.5, 'Number of Customers')"
      ]
     },
     "execution_count": 423,
     "metadata": {},
     "output_type": "execute_result"
    },
    {
     "data": {
      "image/png": "[encoded data removed]",
      "text/plain": [
       "<Figure size 640x480 with 1 Axes>"
      ]
     },
     "metadata": {},
     "output_type": "display_data"
    }
   ],
   "source": [
    "sns.set_palette(\"husl\")\n",
    "ax = sns.countplot(x='IsActiveMember', hue='Exited', data=churn)\n",
    "ax.set_xticklabels(['Not active', 'Active'])\n",
    "ax.set_ylabel(\"Number of Customers\")"
   ]
  },
  {
   "cell_type": "markdown",
   "id": "57758422",
   "metadata": {},
   "source": [
    "- <b><i>Number of products per customer<i></b>"
   ]
  },
  {
   "cell_type": "code",
   "execution_count": 424,
   "id": "58dc340a",
   "metadata": {},
   "outputs": [
    {
     "data": {
      "image/png": "[encoded data removed]",
      "text/plain": [
       "<Figure size 640x480 with 1 Axes>"
      ]
     },
     "metadata": {},
     "output_type": "display_data"
    }
   ],
   "source": [
    "exited = churn['NumOfProducts'].value_counts()\n",
    "plt.pie(exited, labels=['1', '2', '3', '4'], autopct='%1.1f%%', startangle=0)\n",
    "plt.title('Number of products per customer count')\n",
    "\n",
    "plt.show()"
   ]
  },
  {
   "cell_type": "markdown",
   "id": "eb6837c1",
   "metadata": {},
   "source": [
    "- <b><i>Credit card owners and credit scores<i></b>"
   ]
  },
  {
   "cell_type": "code",
   "execution_count": 425,
   "id": "78b78685",
   "metadata": {},
   "outputs": [
    {
     "data": {
      "image/png": "[encoded data removed]",
      "text/plain": [
       "<Figure size 900x600 with 1 Axes>"
      ]
     },
     "metadata": {},
     "output_type": "display_data"
    }
   ],
   "source": [
    "sns.set_palette(\"husl\")\n",
    "fig, ax = plt.subplots(1, 1, figsize=(9, 6))\n",
    "\n",
    "ax.boxplot(churn['CreditScore'])\n",
    "ax.set_ylabel('Score')\n",
    "ax.set_title('Credit Score')\n",
    "\n",
    "plt.show()"
   ]
  },
  {
   "cell_type": "markdown",
   "id": "6ac05e73",
   "metadata": {},
   "source": [
    "- <b><i>Tenure<i></b>"
   ]
  },
  {
   "cell_type": "code",
   "execution_count": 426,
   "id": "ef8e3c78",
   "metadata": {},
   "outputs": [
    {
     "data": {
      "image/png": "[encoded data removed]",
      "text/plain": [
       "<Figure size 800x500 with 1 Axes>"
      ]
     },
     "metadata": {},
     "output_type": "display_data"
    }
   ],
   "source": [
    "sns.set_palette(\"husl\")\n",
    "\n",
    "churn[\"Tenure\"].value_counts().plot.bar(color=colors, width=0.8, figsize=(8, 5))\n",
    "\n",
    "plt.xlabel('Number of years', labelpad=20)\n",
    "plt.ylabel('Frequency', labelpad=20)\n",
    "plt.title('Tenure')\n",
    "plt.xticks(rotation=0)\n",
    "\n",
    "plt.show()"
   ]
  },
  {
   "cell_type": "markdown",
   "id": "35da976b",
   "metadata": {},
   "source": [
    "## 1.3. Feature Engineering"
   ]
  },
  {
   "cell_type": "code",
   "execution_count": 447,
   "id": "2bc13ddd",
   "metadata": {},
   "outputs": [
    {
     "data": {
      "text/html": [
       "<div>\n",
       "<style scoped>\n",
       "    .dataframe tbody tr th:only-of-type {\n",
       "        vertical-align: middle;\n",
       "    }\n",
       "\n",
       "    .dataframe tbody tr th {\n",
       "        vertical-align: top;\n",
       "    }\n",
       "\n",
       "    .dataframe thead th {\n",
       "        text-align: right;\n",
       "    }\n",
       "</style>\n",
       "<table border=\"1\" class=\"dataframe\">\n",
       "  <thead>\n",
       "    <tr style=\"text-align: right;\">\n",
       "      <th></th>\n",
       "      <th>CreditScore</th>\n",
       "      <th>Geography</th>\n",
       "      <th>Gender</th>\n",
       "      <th>Age</th>\n",
       "      <th>Tenure</th>\n",
       "      <th>Balance</th>\n",
       "      <th>NumOfProducts</th>\n",
       "      <th>HasCrCard</th>\n",
       "      <th>IsActiveMember</th>\n",
       "      <th>EstimatedSalary</th>\n",
       "      <th>Exited</th>\n",
       "    </tr>\n",
       "  </thead>\n",
       "  <tbody>\n",
       "    <tr>\n",
       "      <th>0</th>\n",
       "      <td>619</td>\n",
       "      <td>France</td>\n",
       "      <td>0</td>\n",
       "      <td>42</td>\n",
       "      <td>2</td>\n",
       "      <td>0.00</td>\n",
       "      <td>1</td>\n",
       "      <td>1</td>\n",
       "      <td>1</td>\n",
       "      <td>101348.88</td>\n",
       "      <td>1</td>\n",
       "    </tr>\n",
       "    <tr>\n",
       "      <th>1</th>\n",
       "      <td>608</td>\n",
       "      <td>Spain</td>\n",
       "      <td>0</td>\n",
       "      <td>41</td>\n",
       "      <td>1</td>\n",
       "      <td>83807.86</td>\n",
       "      <td>1</td>\n",
       "      <td>0</td>\n",
       "      <td>1</td>\n",
       "      <td>112542.58</td>\n",
       "      <td>0</td>\n",
       "    </tr>\n",
       "    <tr>\n",
       "      <th>2</th>\n",
       "      <td>502</td>\n",
       "      <td>France</td>\n",
       "      <td>0</td>\n",
       "      <td>42</td>\n",
       "      <td>8</td>\n",
       "      <td>159660.80</td>\n",
       "      <td>3</td>\n",
       "      <td>1</td>\n",
       "      <td>0</td>\n",
       "      <td>113931.57</td>\n",
       "      <td>1</td>\n",
       "    </tr>\n",
       "    <tr>\n",
       "      <th>3</th>\n",
       "      <td>699</td>\n",
       "      <td>France</td>\n",
       "      <td>0</td>\n",
       "      <td>39</td>\n",
       "      <td>1</td>\n",
       "      <td>0.00</td>\n",
       "      <td>2</td>\n",
       "      <td>0</td>\n",
       "      <td>0</td>\n",
       "      <td>93826.63</td>\n",
       "      <td>0</td>\n",
       "    </tr>\n",
       "    <tr>\n",
       "      <th>4</th>\n",
       "      <td>850</td>\n",
       "      <td>Spain</td>\n",
       "      <td>0</td>\n",
       "      <td>43</td>\n",
       "      <td>2</td>\n",
       "      <td>125510.82</td>\n",
       "      <td>1</td>\n",
       "      <td>1</td>\n",
       "      <td>1</td>\n",
       "      <td>79084.10</td>\n",
       "      <td>0</td>\n",
       "    </tr>\n",
       "  </tbody>\n",
       "</table>\n",
       "</div>"
      ],
      "text/plain": [
       "   CreditScore Geography  Gender  Age  Tenure    Balance  NumOfProducts  \\\n",
       "0          619    France       0   42       2       0.00              1   \n",
       "1          608     Spain       0   41       1   83807.86              1   \n",
       "2          502    France       0   42       8  159660.80              3   \n",
       "3          699    France       0   39       1       0.00              2   \n",
       "4          850     Spain       0   43       2  125510.82              1   \n",
       "\n",
       "   HasCrCard  IsActiveMember  EstimatedSalary  Exited  \n",
       "0          1               1        101348.88       1  \n",
       "1          0               1        112542.58       0  \n",
       "2          1               0        113931.57       1  \n",
       "3          0               0         93826.63       0  \n",
       "4          1               1         79084.10       0  "
      ]
     },
     "execution_count": 447,
     "metadata": {},
     "output_type": "execute_result"
    }
   ],
   "source": [
    "churn.head()"
   ]
  },
  {
   "cell_type": "markdown",
   "id": "9b9c3f02",
   "metadata": {},
   "source": [
    "### 1.3.1. Remove unnecessary columns "
   ]
  },
  {
   "cell_type": "code",
   "execution_count": 428,
   "id": "23fbb7f2",
   "metadata": {},
   "outputs": [
    {
     "data": {
      "text/html": [
       "<div>\n",
       "<style scoped>\n",
       "    .dataframe tbody tr th:only-of-type {\n",
       "        vertical-align: middle;\n",
       "    }\n",
       "\n",
       "    .dataframe tbody tr th {\n",
       "        vertical-align: top;\n",
       "    }\n",
       "\n",
       "    .dataframe thead th {\n",
       "        text-align: right;\n",
       "    }\n",
       "</style>\n",
       "<table border=\"1\" class=\"dataframe\">\n",
       "  <thead>\n",
       "    <tr style=\"text-align: right;\">\n",
       "      <th></th>\n",
       "      <th>Geography</th>\n",
       "      <th>Gender</th>\n",
       "      <th>Age</th>\n",
       "      <th>Balance</th>\n",
       "      <th>NumOfProducts</th>\n",
       "      <th>IsActiveMember</th>\n",
       "      <th>Exited</th>\n",
       "    </tr>\n",
       "  </thead>\n",
       "  <tbody>\n",
       "    <tr>\n",
       "      <th>0</th>\n",
       "      <td>France</td>\n",
       "      <td>0</td>\n",
       "      <td>42</td>\n",
       "      <td>0.00</td>\n",
       "      <td>1</td>\n",
       "      <td>1</td>\n",
       "      <td>1</td>\n",
       "    </tr>\n",
       "    <tr>\n",
       "      <th>1</th>\n",
       "      <td>Spain</td>\n",
       "      <td>0</td>\n",
       "      <td>41</td>\n",
       "      <td>83807.86</td>\n",
       "      <td>1</td>\n",
       "      <td>1</td>\n",
       "      <td>0</td>\n",
       "    </tr>\n",
       "    <tr>\n",
       "      <th>2</th>\n",
       "      <td>France</td>\n",
       "      <td>0</td>\n",
       "      <td>42</td>\n",
       "      <td>159660.80</td>\n",
       "      <td>3</td>\n",
       "      <td>0</td>\n",
       "      <td>1</td>\n",
       "    </tr>\n",
       "    <tr>\n",
       "      <th>3</th>\n",
       "      <td>France</td>\n",
       "      <td>0</td>\n",
       "      <td>39</td>\n",
       "      <td>0.00</td>\n",
       "      <td>2</td>\n",
       "      <td>0</td>\n",
       "      <td>0</td>\n",
       "    </tr>\n",
       "    <tr>\n",
       "      <th>4</th>\n",
       "      <td>Spain</td>\n",
       "      <td>0</td>\n",
       "      <td>43</td>\n",
       "      <td>125510.82</td>\n",
       "      <td>1</td>\n",
       "      <td>1</td>\n",
       "      <td>0</td>\n",
       "    </tr>\n",
       "  </tbody>\n",
       "</table>\n",
       "</div>"
      ],
      "text/plain": [
       "  Geography  Gender  Age    Balance  NumOfProducts  IsActiveMember  Exited\n",
       "0    France       0   42       0.00              1               1       1\n",
       "1     Spain       0   41   83807.86              1               1       0\n",
       "2    France       0   42  159660.80              3               0       1\n",
       "3    France       0   39       0.00              2               0       0\n",
       "4     Spain       0   43  125510.82              1               1       0"
      ]
     },
     "execution_count": 428,
     "metadata": {},
     "output_type": "execute_result"
    }
   ],
   "source": [
    "churn_feat = churn.drop(['CreditScore', 'HasCrCard', 'EstimatedSalary', 'Tenure'], axis=1)\n",
    "churn_feat.head()"
   ]
  },
  {
   "cell_type": "markdown",
   "id": "39e43f47",
   "metadata": {},
   "source": [
    "Note: The columns are removed on the basis of previosuly conducted correlation analysis and analysis of variance."
   ]
  },
  {
   "cell_type": "markdown",
   "id": "b52adbd5",
   "metadata": {},
   "source": [
    "### 1.3.2. Feature scaling"
   ]
  },
  {
   "cell_type": "code",
   "execution_count": 429,
   "id": "fe4b04d1",
   "metadata": {
    "scrolled": true
   },
   "outputs": [
    {
     "data": {
      "text/html": [
       "<div>\n",
       "<style scoped>\n",
       "    .dataframe tbody tr th:only-of-type {\n",
       "        vertical-align: middle;\n",
       "    }\n",
       "\n",
       "    .dataframe tbody tr th {\n",
       "        vertical-align: top;\n",
       "    }\n",
       "\n",
       "    .dataframe thead th {\n",
       "        text-align: right;\n",
       "    }\n",
       "</style>\n",
       "<table border=\"1\" class=\"dataframe\">\n",
       "  <thead>\n",
       "    <tr style=\"text-align: right;\">\n",
       "      <th></th>\n",
       "      <th>Geography</th>\n",
       "      <th>Gender</th>\n",
       "      <th>Age</th>\n",
       "      <th>Balance</th>\n",
       "      <th>NumOfProducts</th>\n",
       "      <th>IsActiveMember</th>\n",
       "      <th>Exited</th>\n",
       "    </tr>\n",
       "  </thead>\n",
       "  <tbody>\n",
       "    <tr>\n",
       "      <th>0</th>\n",
       "      <td>France</td>\n",
       "      <td>0</td>\n",
       "      <td>0.293517</td>\n",
       "      <td>-1.225848</td>\n",
       "      <td>1</td>\n",
       "      <td>1</td>\n",
       "      <td>1</td>\n",
       "    </tr>\n",
       "    <tr>\n",
       "      <th>1</th>\n",
       "      <td>Spain</td>\n",
       "      <td>0</td>\n",
       "      <td>0.198164</td>\n",
       "      <td>0.117350</td>\n",
       "      <td>1</td>\n",
       "      <td>1</td>\n",
       "      <td>0</td>\n",
       "    </tr>\n",
       "    <tr>\n",
       "      <th>2</th>\n",
       "      <td>France</td>\n",
       "      <td>0</td>\n",
       "      <td>0.293517</td>\n",
       "      <td>1.333053</td>\n",
       "      <td>3</td>\n",
       "      <td>0</td>\n",
       "      <td>1</td>\n",
       "    </tr>\n",
       "    <tr>\n",
       "      <th>3</th>\n",
       "      <td>France</td>\n",
       "      <td>0</td>\n",
       "      <td>0.007457</td>\n",
       "      <td>-1.225848</td>\n",
       "      <td>2</td>\n",
       "      <td>0</td>\n",
       "      <td>0</td>\n",
       "    </tr>\n",
       "    <tr>\n",
       "      <th>4</th>\n",
       "      <td>Spain</td>\n",
       "      <td>0</td>\n",
       "      <td>0.388871</td>\n",
       "      <td>0.785728</td>\n",
       "      <td>1</td>\n",
       "      <td>1</td>\n",
       "      <td>0</td>\n",
       "    </tr>\n",
       "  </tbody>\n",
       "</table>\n",
       "</div>"
      ],
      "text/plain": [
       "  Geography  Gender       Age   Balance  NumOfProducts  IsActiveMember  Exited\n",
       "0    France       0  0.293517 -1.225848              1               1       1\n",
       "1     Spain       0  0.198164  0.117350              1               1       0\n",
       "2    France       0  0.293517  1.333053              3               0       1\n",
       "3    France       0  0.007457 -1.225848              2               0       0\n",
       "4     Spain       0  0.388871  0.785728              1               1       0"
      ]
     },
     "execution_count": 429,
     "metadata": {},
     "output_type": "execute_result"
    }
   ],
   "source": [
    "from sklearn.preprocessing import StandardScaler\n",
    "import copy\n",
    "\n",
    "scaler = StandardScaler().fit(churn_feat[['Balance', 'Age']])\n",
    "churn_feat_scaled = copy.deepcopy(churn_feat)\n",
    "churn_feat_scaled[['Balance', 'Age']] = scaler.transform(churn_feat_scaled[['Balance', 'Age']])\n",
    "\n",
    "churn_feat_scaled.head()"
   ]
  },
  {
   "cell_type": "markdown",
   "id": "7228911f",
   "metadata": {},
   "source": [
    "### 1.3.3. One-hot encoding"
   ]
  },
  {
   "cell_type": "code",
   "execution_count": 430,
   "id": "2ddcc01a",
   "metadata": {
    "scrolled": true
   },
   "outputs": [
    {
     "data": {
      "text/html": [
       "<div>\n",
       "<style scoped>\n",
       "    .dataframe tbody tr th:only-of-type {\n",
       "        vertical-align: middle;\n",
       "    }\n",
       "\n",
       "    .dataframe tbody tr th {\n",
       "        vertical-align: top;\n",
       "    }\n",
       "\n",
       "    .dataframe thead th {\n",
       "        text-align: right;\n",
       "    }\n",
       "</style>\n",
       "<table border=\"1\" class=\"dataframe\">\n",
       "  <thead>\n",
       "    <tr style=\"text-align: right;\">\n",
       "      <th></th>\n",
       "      <th>Gender</th>\n",
       "      <th>Age</th>\n",
       "      <th>Balance</th>\n",
       "      <th>NumOfProducts</th>\n",
       "      <th>IsActiveMember</th>\n",
       "      <th>Exited</th>\n",
       "      <th>Geography_France</th>\n",
       "      <th>Geography_Germany</th>\n",
       "      <th>Geography_Spain</th>\n",
       "    </tr>\n",
       "  </thead>\n",
       "  <tbody>\n",
       "    <tr>\n",
       "      <th>0</th>\n",
       "      <td>0</td>\n",
       "      <td>0.293517</td>\n",
       "      <td>-1.225848</td>\n",
       "      <td>1</td>\n",
       "      <td>1</td>\n",
       "      <td>1</td>\n",
       "      <td>1</td>\n",
       "      <td>0</td>\n",
       "      <td>0</td>\n",
       "    </tr>\n",
       "    <tr>\n",
       "      <th>1</th>\n",
       "      <td>0</td>\n",
       "      <td>0.198164</td>\n",
       "      <td>0.117350</td>\n",
       "      <td>1</td>\n",
       "      <td>1</td>\n",
       "      <td>0</td>\n",
       "      <td>0</td>\n",
       "      <td>0</td>\n",
       "      <td>1</td>\n",
       "    </tr>\n",
       "    <tr>\n",
       "      <th>2</th>\n",
       "      <td>0</td>\n",
       "      <td>0.293517</td>\n",
       "      <td>1.333053</td>\n",
       "      <td>3</td>\n",
       "      <td>0</td>\n",
       "      <td>1</td>\n",
       "      <td>1</td>\n",
       "      <td>0</td>\n",
       "      <td>0</td>\n",
       "    </tr>\n",
       "    <tr>\n",
       "      <th>3</th>\n",
       "      <td>0</td>\n",
       "      <td>0.007457</td>\n",
       "      <td>-1.225848</td>\n",
       "      <td>2</td>\n",
       "      <td>0</td>\n",
       "      <td>0</td>\n",
       "      <td>1</td>\n",
       "      <td>0</td>\n",
       "      <td>0</td>\n",
       "    </tr>\n",
       "    <tr>\n",
       "      <th>4</th>\n",
       "      <td>0</td>\n",
       "      <td>0.388871</td>\n",
       "      <td>0.785728</td>\n",
       "      <td>1</td>\n",
       "      <td>1</td>\n",
       "      <td>0</td>\n",
       "      <td>0</td>\n",
       "      <td>0</td>\n",
       "      <td>1</td>\n",
       "    </tr>\n",
       "  </tbody>\n",
       "</table>\n",
       "</div>"
      ],
      "text/plain": [
       "   Gender       Age   Balance  NumOfProducts  IsActiveMember  Exited  \\\n",
       "0       0  0.293517 -1.225848              1               1       1   \n",
       "1       0  0.198164  0.117350              1               1       0   \n",
       "2       0  0.293517  1.333053              3               0       1   \n",
       "3       0  0.007457 -1.225848              2               0       0   \n",
       "4       0  0.388871  0.785728              1               1       0   \n",
       "\n",
       "   Geography_France  Geography_Germany  Geography_Spain  \n",
       "0                 1                  0                0  \n",
       "1                 0                  0                1  \n",
       "2                 1                  0                0  \n",
       "3                 1                  0                0  \n",
       "4                 0                  0                1  "
      ]
     },
     "execution_count": 430,
     "metadata": {},
     "output_type": "execute_result"
    }
   ],
   "source": [
    "churn_model = pd.concat([churn_feat_scaled.drop(['Geography'], axis=1),\n",
    "                            pd.get_dummies(churn_feat_scaled[['Geography']])], axis=1)\n",
    "\n",
    "churn_model.head()"
   ]
  },
  {
   "cell_type": "markdown",
   "id": "f9827900",
   "metadata": {},
   "source": [
    "# 2. Model Building"
   ]
  },
  {
   "cell_type": "code",
   "execution_count": 431,
   "id": "d2a75489",
   "metadata": {},
   "outputs": [],
   "source": [
    "# Import libraries for model building and evaluating\n",
    "from sklearn.linear_model import LogisticRegression\n",
    "from sklearn.ensemble import RandomForestClassifier\n",
    "from sklearn.neighbors import KNeighborsClassifier\n",
    "from sklearn.naive_bayes import GaussianNB\n",
    "from sklearn.svm import SVC\n",
    "from sklearn.ensemble import AdaBoostClassifier\n",
    "from sklearn.ensemble import GradientBoostingClassifier\n",
    "\n",
    "from sklearn.model_selection import train_test_split\n",
    "from sklearn.metrics import classification_report\n",
    "from imblearn.over_sampling import SMOTE"
   ]
  },
  {
   "cell_type": "markdown",
   "id": "65fc21d3",
   "metadata": {},
   "source": [
    "## 2.1. Addressing Imbalance"
   ]
  },
  {
   "cell_type": "code",
   "execution_count": 432,
   "id": "0971c859",
   "metadata": {},
   "outputs": [],
   "source": [
    "# Define the independent variables and dependent variable\n",
    "X = churn_model.drop(['Exited'], axis=1)\n",
    "Y = churn_model['Exited']"
   ]
  },
  {
   "cell_type": "code",
   "execution_count": 433,
   "id": "5c5d69d2",
   "metadata": {},
   "outputs": [
    {
     "data": {
      "text/plain": [
       "0    7963\n",
       "1    2037\n",
       "Name: Exited, dtype: int64"
      ]
     },
     "execution_count": 433,
     "metadata": {},
     "output_type": "execute_result"
    }
   ],
   "source": [
    "Y.value_counts()"
   ]
  },
  {
   "cell_type": "markdown",
   "id": "9f7ea20c",
   "metadata": {},
   "source": [
    "We can see that our target variable is highly imbalanced, which can cause the resulting model to be biased towards the majority class and perform poorly on the minority class. In order to balance it, I'm going to use <b>SMOTE</b> (Synthetic Minority Over-sampling Technique), which is an oversampling technique used to increase the number of samples in the minority class by generating synthetic samples of the class."
   ]
  },
  {
   "cell_type": "code",
   "execution_count": 434,
   "id": "93ade8b3",
   "metadata": {},
   "outputs": [
    {
     "data": {
      "text/plain": [
       "(15926,)"
      ]
     },
     "execution_count": 434,
     "metadata": {},
     "output_type": "execute_result"
    }
   ],
   "source": [
    "X_data, Y_data = SMOTE().fit_resample(X,Y)\n",
    "\n",
    "Y_data.value_counts()\n",
    "Y_data.shape"
   ]
  },
  {
   "cell_type": "markdown",
   "id": "41d729ad",
   "metadata": {},
   "source": [
    "## 2.2. Splitting the Data"
   ]
  },
  {
   "cell_type": "code",
   "execution_count": 435,
   "id": "db97fdce",
   "metadata": {},
   "outputs": [
    {
     "name": "stdout",
     "output_type": "stream",
     "text": [
      "(10000, 8) (12740, 8) (3186, 8)\n"
     ]
    }
   ],
   "source": [
    "# Get training set and test set\n",
    "X_train, X_test, y_train, y_test = train_test_split(X_data, Y_data, test_size=0.2, random_state=7, stratify=Y_data)\n",
    "\n",
    "print(X.shape, X_train.shape, X_test.shape)"
   ]
  },
  {
   "cell_type": "markdown",
   "id": "5e38fc48",
   "metadata": {},
   "source": [
    "## 2.3. Model Training and Evaluation"
   ]
  },
  {
   "cell_type": "markdown",
   "id": "f91dd07c",
   "metadata": {},
   "source": [
    "In this section, I train three different classfication models and evaluate them in order to later build an ensemble classifier. The models include: \n",
    "\n",
    "The metrics I chose for model evaluation are"
   ]
  },
  {
   "cell_type": "markdown",
   "id": "be9bfec3",
   "metadata": {},
   "source": [
    "### Classification Score Function"
   ]
  },
  {
   "cell_type": "markdown",
   "id": "5a023303",
   "metadata": {},
   "source": [
    "In this subsection, I build a uniform function that outputs all the necessary scores of a classification model."
   ]
  },
  {
   "cell_type": "code",
   "execution_count": 436,
   "id": "6eb3ddb5",
   "metadata": {},
   "outputs": [],
   "source": [
    "test_accuracy = []\n",
    "train_accuracy = []\n",
    "\n",
    "def get_scores(model):\n",
    "    model.fit(X_train, y_train)\n",
    "    y_pred = model.predict(X_test)\n",
    "    \n",
    "    train_score = model.score(X_train, y_train)\n",
    "    print(f\"Training Accuracy: {train_score}\")\n",
    "    \n",
    "    test_score = model.score(X_test, y_test)\n",
    "    print(f\"Testing Accuracy: {test_score}\")\n",
    "    \n",
    "    train_accuracy.append(train_score)\n",
    "    test_accuracy.append(test_score)\n",
    "    \n",
    "    print(classification_report(y_test, y_pred))"
   ]
  },
  {
   "cell_type": "markdown",
   "id": "2b366a9f",
   "metadata": {},
   "source": [
    "### a. Logistic Regression"
   ]
  },
  {
   "cell_type": "code",
   "execution_count": 437,
   "id": "c54cc93f",
   "metadata": {},
   "outputs": [
    {
     "name": "stdout",
     "output_type": "stream",
     "text": [
      "Training Accuracy: 0.707221350078493\n",
      "Testing Accuracy: 0.7052730696798494\n",
      "              precision    recall  f1-score   support\n",
      "\n",
      "           0       0.70      0.72      0.71      1593\n",
      "           1       0.71      0.70      0.70      1593\n",
      "\n",
      "    accuracy                           0.71      3186\n",
      "   macro avg       0.71      0.71      0.71      3186\n",
      "weighted avg       0.71      0.71      0.71      3186\n",
      "\n"
     ]
    }
   ],
   "source": [
    "lr = get_scores(LogisticRegression())"
   ]
  },
  {
   "cell_type": "markdown",
   "id": "cc696e8c",
   "metadata": {},
   "source": [
    "### b. Random Forest Classifier"
   ]
  },
  {
   "cell_type": "code",
   "execution_count": 438,
   "id": "a8a0be40",
   "metadata": {},
   "outputs": [
    {
     "name": "stdout",
     "output_type": "stream",
     "text": [
      "Training Accuracy: 0.9826530612244898\n",
      "Testing Accuracy: 0.8499686126804771\n",
      "              precision    recall  f1-score   support\n",
      "\n",
      "           0       0.83      0.88      0.85      1593\n",
      "           1       0.87      0.82      0.85      1593\n",
      "\n",
      "    accuracy                           0.85      3186\n",
      "   macro avg       0.85      0.85      0.85      3186\n",
      "weighted avg       0.85      0.85      0.85      3186\n",
      "\n"
     ]
    }
   ],
   "source": [
    "rfc = get_scores(RandomForestClassifier())"
   ]
  },
  {
   "cell_type": "markdown",
   "id": "b9f70ce7",
   "metadata": {},
   "source": [
    "### c. KNN Classifier"
   ]
  },
  {
   "cell_type": "code",
   "execution_count": 439,
   "id": "80214054",
   "metadata": {},
   "outputs": [
    {
     "name": "stdout",
     "output_type": "stream",
     "text": [
      "Training Accuracy: 0.8718210361067504\n",
      "Testing Accuracy: 0.8229755178907722\n",
      "              precision    recall  f1-score   support\n",
      "\n",
      "           0       0.84      0.80      0.82      1593\n",
      "           1       0.81      0.84      0.83      1593\n",
      "\n",
      "    accuracy                           0.82      3186\n",
      "   macro avg       0.82      0.82      0.82      3186\n",
      "weighted avg       0.82      0.82      0.82      3186\n",
      "\n"
     ]
    }
   ],
   "source": [
    "knn = get_scores(KNeighborsClassifier())"
   ]
  },
  {
   "cell_type": "markdown",
   "id": "34f0577d",
   "metadata": {},
   "source": [
    "### d. Naive Bayes"
   ]
  },
  {
   "cell_type": "code",
   "execution_count": 440,
   "id": "b4405ed9",
   "metadata": {},
   "outputs": [
    {
     "name": "stdout",
     "output_type": "stream",
     "text": [
      "Training Accuracy: 0.7070643642072213\n",
      "Testing Accuracy: 0.7090395480225988\n",
      "              precision    recall  f1-score   support\n",
      "\n",
      "           0       0.70      0.73      0.71      1593\n",
      "           1       0.72      0.69      0.70      1593\n",
      "\n",
      "    accuracy                           0.71      3186\n",
      "   macro avg       0.71      0.71      0.71      3186\n",
      "weighted avg       0.71      0.71      0.71      3186\n",
      "\n"
     ]
    }
   ],
   "source": [
    "gnb = get_scores(GaussianNB())"
   ]
  },
  {
   "cell_type": "markdown",
   "id": "1d5ee24a",
   "metadata": {},
   "source": [
    "### e. Support Vector Machine"
   ]
  },
  {
   "cell_type": "code",
   "execution_count": 441,
   "id": "1a1fdfca",
   "metadata": {},
   "outputs": [
    {
     "name": "stdout",
     "output_type": "stream",
     "text": [
      "Training Accuracy: 0.7942700156985871\n",
      "Testing Accuracy: 0.7934714375392341\n",
      "              precision    recall  f1-score   support\n",
      "\n",
      "           0       0.79      0.81      0.80      1593\n",
      "           1       0.80      0.78      0.79      1593\n",
      "\n",
      "    accuracy                           0.79      3186\n",
      "   macro avg       0.79      0.79      0.79      3186\n",
      "weighted avg       0.79      0.79      0.79      3186\n",
      "\n"
     ]
    }
   ],
   "source": [
    "svm = get_scores(SVC())"
   ]
  },
  {
   "cell_type": "markdown",
   "id": "ac1d5c2e",
   "metadata": {},
   "source": [
    "### f. Adaptive Boosting Classifier"
   ]
  },
  {
   "cell_type": "code",
   "execution_count": 442,
   "id": "12384e07",
   "metadata": {},
   "outputs": [
    {
     "name": "stdout",
     "output_type": "stream",
     "text": [
      "Training Accuracy: 0.7813971742543171\n",
      "Testing Accuracy: 0.7922159447583177\n",
      "              precision    recall  f1-score   support\n",
      "\n",
      "           0       0.78      0.81      0.80      1593\n",
      "           1       0.80      0.77      0.79      1593\n",
      "\n",
      "    accuracy                           0.79      3186\n",
      "   macro avg       0.79      0.79      0.79      3186\n",
      "weighted avg       0.79      0.79      0.79      3186\n",
      "\n"
     ]
    }
   ],
   "source": [
    "abc = get_scores(AdaBoostClassifier())"
   ]
  },
  {
   "cell_type": "markdown",
   "id": "1e5b3fdb",
   "metadata": {},
   "source": [
    "### g. Gradient Boosting Classifier"
   ]
  },
  {
   "cell_type": "code",
   "execution_count": 443,
   "id": "070caef0",
   "metadata": {
    "scrolled": false
   },
   "outputs": [
    {
     "name": "stdout",
     "output_type": "stream",
     "text": [
      "Training Accuracy: 0.8274725274725274\n",
      "Testing Accuracy: 0.8217200251098556\n",
      "              precision    recall  f1-score   support\n",
      "\n",
      "           0       0.81      0.84      0.82      1593\n",
      "           1       0.83      0.81      0.82      1593\n",
      "\n",
      "    accuracy                           0.82      3186\n",
      "   macro avg       0.82      0.82      0.82      3186\n",
      "weighted avg       0.82      0.82      0.82      3186\n",
      "\n"
     ]
    }
   ],
   "source": [
    "gbc = get_scores(GradientBoostingClassifier())"
   ]
  },
  {
   "cell_type": "markdown",
   "id": "6758919d",
   "metadata": {},
   "source": [
    "### Accuracy Table"
   ]
  },
  {
   "cell_type": "code",
   "execution_count": 444,
   "id": "dcd06c6f",
   "metadata": {},
   "outputs": [
    {
     "data": {
      "text/html": [
       "<div>\n",
       "<style scoped>\n",
       "    .dataframe tbody tr th:only-of-type {\n",
       "        vertical-align: middle;\n",
       "    }\n",
       "\n",
       "    .dataframe tbody tr th {\n",
       "        vertical-align: top;\n",
       "    }\n",
       "\n",
       "    .dataframe thead th {\n",
       "        text-align: right;\n",
       "    }\n",
       "</style>\n",
       "<table border=\"1\" class=\"dataframe\">\n",
       "  <thead>\n",
       "    <tr style=\"text-align: right;\">\n",
       "      <th></th>\n",
       "      <th>Model</th>\n",
       "      <th>Training Accuracy</th>\n",
       "      <th>Test Accuracy</th>\n",
       "    </tr>\n",
       "  </thead>\n",
       "  <tbody>\n",
       "    <tr>\n",
       "      <th>0</th>\n",
       "      <td>LogisticRegression</td>\n",
       "      <td>0.707221</td>\n",
       "      <td>0.705273</td>\n",
       "    </tr>\n",
       "    <tr>\n",
       "      <th>1</th>\n",
       "      <td>RandomForestClassifier</td>\n",
       "      <td>0.982653</td>\n",
       "      <td>0.849969</td>\n",
       "    </tr>\n",
       "    <tr>\n",
       "      <th>2</th>\n",
       "      <td>KNeighborsClassifier</td>\n",
       "      <td>0.871821</td>\n",
       "      <td>0.822976</td>\n",
       "    </tr>\n",
       "    <tr>\n",
       "      <th>3</th>\n",
       "      <td>GaussianNB</td>\n",
       "      <td>0.707064</td>\n",
       "      <td>0.709040</td>\n",
       "    </tr>\n",
       "    <tr>\n",
       "      <th>4</th>\n",
       "      <td>SVC</td>\n",
       "      <td>0.794270</td>\n",
       "      <td>0.793471</td>\n",
       "    </tr>\n",
       "    <tr>\n",
       "      <th>5</th>\n",
       "      <td>AdaBoostClassifier</td>\n",
       "      <td>0.781397</td>\n",
       "      <td>0.792216</td>\n",
       "    </tr>\n",
       "    <tr>\n",
       "      <th>6</th>\n",
       "      <td>GradientBoostingClassifier</td>\n",
       "      <td>0.827473</td>\n",
       "      <td>0.821720</td>\n",
       "    </tr>\n",
       "  </tbody>\n",
       "</table>\n",
       "</div>"
      ],
      "text/plain": [
       "                        Model  Training Accuracy  Test Accuracy\n",
       "0          LogisticRegression           0.707221       0.705273\n",
       "1      RandomForestClassifier           0.982653       0.849969\n",
       "2        KNeighborsClassifier           0.871821       0.822976\n",
       "3                  GaussianNB           0.707064       0.709040\n",
       "4                         SVC           0.794270       0.793471\n",
       "5          AdaBoostClassifier           0.781397       0.792216\n",
       "6  GradientBoostingClassifier           0.827473       0.821720"
      ]
     },
     "execution_count": 444,
     "metadata": {},
     "output_type": "execute_result"
    }
   ],
   "source": [
    "models = [\"LogisticRegression\", \"RandomForestClassifier\", \"KNeighborsClassifier\", \"GaussianNB\", \"SVC\",\n",
    "          \"AdaBoostClassifier\", \"GradientBoostingClassifier\"]\n",
    "scores = {\"Model\": models ,'Training Accuracy': train_accuracy, \"Test Accuracy\": test_accuracy}\n",
    "scores_table = pd.DataFrame(scores)\n",
    "\n",
    "scores_table"
   ]
  },
  {
   "cell_type": "code",
   "execution_count": 445,
   "id": "82968535",
   "metadata": {},
   "outputs": [
    {
     "data": {
      "text/plain": [
       "Text(0.5, 1.0, 'Model Score Comparison')"
      ]
     },
     "execution_count": 445,
     "metadata": {},
     "output_type": "execute_result"
    },
    {
     "data": {
      "image/png": "[encoded data removed]",
      "text/plain": [
       "<Figure size 2000x1000 with 1 Axes>"
      ]
     },
     "metadata": {},
     "output_type": "display_data"
    }
   ],
   "source": [
    "# Histogram for Model Scores\n",
    "plt.figure(figsize = (20, 10))\n",
    "sns.barplot(x = \"Model\", y = \"Test Accuracy\", data=scores_table)\n",
    "plt.xlabel(\"Model\", labelpad=20)\n",
    "plt.ylabel(\"Test Accuracy\", labelpad=20)\n",
    "plt.title(\"Model Score Comparison\")"
   ]
  },
  {
   "cell_type": "markdown",
   "id": "04b2223f",
   "metadata": {},
   "source": [
    "## 2.4. Ensemble Modelling"
   ]
  },
  {
   "cell_type": "markdown",
   "id": "edc275cc",
   "metadata": {},
   "source": [
    "In this subsection, I will take three best performing models and create an ensemble model."
   ]
  },
  {
   "cell_type": "code",
   "execution_count": 446,
   "id": "3452374a",
   "metadata": {},
   "outputs": [
    {
     "name": "stdout",
     "output_type": "stream",
     "text": [
      "Training Accuracy:  93.23 %\n",
      "Testing Accuracy:  84.78 %\n"
     ]
    }
   ],
   "source": [
    "from sklearn.ensemble import VotingClassifier\n",
    "vc = VotingClassifier(estimators=[(\"RandomForestClassifier\", RandomForestClassifier()),(\"KNeighborsClassifier\", KNeighborsClassifier()),\n",
    "                                  (\"GradientBoostingClassifier\", GradientBoostingClassifier())], voting='soft')\n",
    "vc.fit(X_train, y_train)\n",
    "train_score_ens = vc.score(X_train, y_train)\n",
    "test_score_ens = vc.score(X_test, y_test)\n",
    "\n",
    "print(\"Training Accuracy: \", (train_score_ens*100).round(2), \"%\")\n",
    "print(\"Testing Accuracy: \", (test_score_ens*100).round(2), \"%\")"
   ]
  },
  {
   "cell_type": "markdown",
   "id": "9635f802",
   "metadata": {},
   "source": [
    "# Conclusions"
   ]
  },
  {
   "cell_type": "markdown",
   "id": "de0e9734",
   "metadata": {},
   "source": [
    "- The dataset contains 10 000 records and 14 columns, initially.\n",
    "- The percentage of customers that have exited is 25.6%. The dependent variable is highly imbalanced.\n",
    "- The feature that has the biggest impact on the target variable, 'Exited', is 'Age' with positive correlation of 0.29.\n",
    "- There is significant relationship between a categorical variable 'Geography' and the target variable, 'Exited'.\n",
    "- The three best peforming models are Random Forest Classifier, KNN Classifier, and Gradient Boosting Classifier.\n",
    "- The accuracy score for Ensemble Model is around 85%."
   ]
  }
 ],
 "metadata": {
  "kernelspec": {
   "display_name": "Python 3 (ipykernel)",
   "language": "python",
   "name": "python3"
  },
  "language_info": {
   "codemirror_mode": {
    "name": "ipython",
    "version": 3
   },
   "file_extension": ".py",
   "mimetype": "text/x-python",
   "name": "python",
   "nbconvert_exporter": "python",
   "pygments_lexer": "ipython3",
   "version": "3.10.9"
  }
 },
 "nbformat": 4,
 "nbformat_minor": 5
}
